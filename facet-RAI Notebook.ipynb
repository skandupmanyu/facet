{
 "cells": [
  {
   "cell_type": "markdown",
   "metadata": {},
   "source": [
    "### Imports"
   ]
  },
  {
   "cell_type": "code",
   "execution_count": 1,
   "metadata": {},
   "outputs": [],
   "source": [
    "# Import analysis libraries\n",
    "import pandas as pd\n",
    "import numpy as np\n",
    "from sklearn.tree import DecisionTreeClassifier\n",
    "from sklearn.preprocessing import LabelEncoder\n",
    "import matplotlib.pyplot as plt\n",
    "\n",
    "# from notebooks/ directory\n",
    "import sys, os\n",
    "\n",
    "# ADDITIONS:\n",
    "from facet.inspection import RAIDataBaisCheck\n",
    "from facet.inspection import RAIFairnessScenarios\n",
    "\n",
    "# DISCUSS: how to handle\n",
    "import gilfoyle.model.set_data as set_data\n",
    "import gilfoyle.model.train_model as train_model"
   ]
  },
  {
   "cell_type": "markdown",
   "metadata": {},
   "source": [
    "### Input parameters"
   ]
  },
  {
   "cell_type": "code",
   "execution_count": 2,
   "metadata": {},
   "outputs": [],
   "source": [
    "# set parameters for bias check\n",
    "model_input_path = './adult.csv'\n",
    "dependent = 'rich'  # dependent variable we measure\n",
    "protected_group = 'race'  # protected group for which we compare outcomes\n",
    "outcome_advantage = \" >50K\"\n",
    "pg_disadvantage = \" Black\" ## this is the class we want to test for whether an advantage exists\n",
    "dependent_bin = 'rich_outcome'\n",
    "thresh_min = .6\n",
    "thresh_max = 1\n",
    "\n",
    "# set additional parameters for the toy model [skip if you have your own model]\n",
    "target_rate = .84  # target_rate = 1 - desired (target) positive rate, i.e., outome rate: percentage of the population that classified as predicted outcome 1.\n",
    "test_size = .4\n",
    "random_state = 777\n",
    "n_estimators = 400\n",
    "bias_detect_thresh = .2\n",
    "data_name = 'adult_dataset'"
   ]
  },
  {
   "cell_type": "markdown",
   "metadata": {},
   "source": [
    "### Read data"
   ]
  },
  {
   "cell_type": "code",
   "execution_count": 3,
   "metadata": {},
   "outputs": [
    {
     "name": "stdout",
     "output_type": "stream",
     "text": [
      "Model data shape:  (32561, 106)\n"
     ]
    }
   ],
   "source": [
    "# Read in data\n",
    "model_input = pd.read_csv(model_input_path)\n",
    "\n",
    "# Create IDs to number individuals\n",
    "model_input['ID'] = model_input.index\n",
    "pg_array = model_input[protected_group]\n",
    "\n",
    "# Select dependent and PG -- measure historical bias\n",
    "# Encode chose parameter for disadvantaged class as binary variable\n",
    "model_input[dependent_bin] = model_input[dependent].apply(lambda x: 1 if x == outcome_advantage else 0)\n",
    "\n",
    "# Encode chose parameter for disadvantaged class as binary variable\n",
    "model_input[protected_group] = model_input[protected_group].apply(lambda x: 1 if x == pg_disadvantage else 0)\n",
    "\n",
    "##### Run functions to create dummies for categorical variables and normalize numeric\n",
    "num_vars = ['age', 'fnlwgt', 'education-num', 'race', 'capital-gain', 'capital-loss',\n",
    "            'hours-per-week']\n",
    "\n",
    "cat_vars = ['workclass', 'education', 'marital-status', 'occupation',\n",
    "            'relationship', 'sex', 'native-country']\n",
    "\n",
    "# This is an internal function which one-hot encodes all categorical and normalizes all numeric variables\n",
    "model_data = set_data.set_data(model_input, dependent_bin, cat_vars, num_vars)\n",
    "\n",
    "# Print shape of final machine-learning ready data frame\n",
    "print(\"Model data shape: \", model_data.shape)"
   ]
  },
  {
   "cell_type": "code",
   "execution_count": 4,
   "metadata": {},
   "outputs": [
    {
     "data": {
      "text/html": [
       "<div>\n",
       "<style scoped>\n",
       "    .dataframe tbody tr th:only-of-type {\n",
       "        vertical-align: middle;\n",
       "    }\n",
       "\n",
       "    .dataframe tbody tr th {\n",
       "        vertical-align: top;\n",
       "    }\n",
       "\n",
       "    .dataframe thead th {\n",
       "        text-align: right;\n",
       "    }\n",
       "</style>\n",
       "<table border=\"1\" class=\"dataframe\">\n",
       "  <thead>\n",
       "    <tr style=\"text-align: right;\">\n",
       "      <th></th>\n",
       "      <th>rich_outcome</th>\n",
       "      <th>ID</th>\n",
       "      <th>workclass_ ?</th>\n",
       "      <th>workclass_ Federal-gov</th>\n",
       "      <th>workclass_ Local-gov</th>\n",
       "      <th>workclass_ Never-worked</th>\n",
       "      <th>workclass_ Private</th>\n",
       "      <th>workclass_ Self-emp-inc</th>\n",
       "      <th>workclass_ Self-emp-not-inc</th>\n",
       "      <th>workclass_ State-gov</th>\n",
       "      <th>...</th>\n",
       "      <th>native-country_ United-States</th>\n",
       "      <th>native-country_ Vietnam</th>\n",
       "      <th>native-country_ Yugoslavia</th>\n",
       "      <th>age</th>\n",
       "      <th>fnlwgt</th>\n",
       "      <th>education-num</th>\n",
       "      <th>race</th>\n",
       "      <th>capital-gain</th>\n",
       "      <th>capital-loss</th>\n",
       "      <th>hours-per-week</th>\n",
       "    </tr>\n",
       "  </thead>\n",
       "  <tbody>\n",
       "    <tr>\n",
       "      <th>0</th>\n",
       "      <td>0</td>\n",
       "      <td>0</td>\n",
       "      <td>0</td>\n",
       "      <td>0</td>\n",
       "      <td>0</td>\n",
       "      <td>0</td>\n",
       "      <td>0</td>\n",
       "      <td>0</td>\n",
       "      <td>0</td>\n",
       "      <td>1</td>\n",
       "      <td>...</td>\n",
       "      <td>1</td>\n",
       "      <td>0</td>\n",
       "      <td>0</td>\n",
       "      <td>0.301370</td>\n",
       "      <td>0.044302</td>\n",
       "      <td>0.800000</td>\n",
       "      <td>0.0</td>\n",
       "      <td>0.02174</td>\n",
       "      <td>0.0</td>\n",
       "      <td>0.397959</td>\n",
       "    </tr>\n",
       "    <tr>\n",
       "      <th>1</th>\n",
       "      <td>0</td>\n",
       "      <td>1</td>\n",
       "      <td>0</td>\n",
       "      <td>0</td>\n",
       "      <td>0</td>\n",
       "      <td>0</td>\n",
       "      <td>0</td>\n",
       "      <td>0</td>\n",
       "      <td>1</td>\n",
       "      <td>0</td>\n",
       "      <td>...</td>\n",
       "      <td>1</td>\n",
       "      <td>0</td>\n",
       "      <td>0</td>\n",
       "      <td>0.452055</td>\n",
       "      <td>0.048238</td>\n",
       "      <td>0.800000</td>\n",
       "      <td>0.0</td>\n",
       "      <td>0.00000</td>\n",
       "      <td>0.0</td>\n",
       "      <td>0.122449</td>\n",
       "    </tr>\n",
       "    <tr>\n",
       "      <th>2</th>\n",
       "      <td>0</td>\n",
       "      <td>2</td>\n",
       "      <td>0</td>\n",
       "      <td>0</td>\n",
       "      <td>0</td>\n",
       "      <td>0</td>\n",
       "      <td>1</td>\n",
       "      <td>0</td>\n",
       "      <td>0</td>\n",
       "      <td>0</td>\n",
       "      <td>...</td>\n",
       "      <td>1</td>\n",
       "      <td>0</td>\n",
       "      <td>0</td>\n",
       "      <td>0.287671</td>\n",
       "      <td>0.138113</td>\n",
       "      <td>0.533333</td>\n",
       "      <td>0.0</td>\n",
       "      <td>0.00000</td>\n",
       "      <td>0.0</td>\n",
       "      <td>0.397959</td>\n",
       "    </tr>\n",
       "    <tr>\n",
       "      <th>3</th>\n",
       "      <td>0</td>\n",
       "      <td>3</td>\n",
       "      <td>0</td>\n",
       "      <td>0</td>\n",
       "      <td>0</td>\n",
       "      <td>0</td>\n",
       "      <td>1</td>\n",
       "      <td>0</td>\n",
       "      <td>0</td>\n",
       "      <td>0</td>\n",
       "      <td>...</td>\n",
       "      <td>1</td>\n",
       "      <td>0</td>\n",
       "      <td>0</td>\n",
       "      <td>0.493151</td>\n",
       "      <td>0.151068</td>\n",
       "      <td>0.400000</td>\n",
       "      <td>1.0</td>\n",
       "      <td>0.00000</td>\n",
       "      <td>0.0</td>\n",
       "      <td>0.397959</td>\n",
       "    </tr>\n",
       "    <tr>\n",
       "      <th>4</th>\n",
       "      <td>0</td>\n",
       "      <td>4</td>\n",
       "      <td>0</td>\n",
       "      <td>0</td>\n",
       "      <td>0</td>\n",
       "      <td>0</td>\n",
       "      <td>1</td>\n",
       "      <td>0</td>\n",
       "      <td>0</td>\n",
       "      <td>0</td>\n",
       "      <td>...</td>\n",
       "      <td>0</td>\n",
       "      <td>0</td>\n",
       "      <td>0</td>\n",
       "      <td>0.150685</td>\n",
       "      <td>0.221488</td>\n",
       "      <td>0.800000</td>\n",
       "      <td>1.0</td>\n",
       "      <td>0.00000</td>\n",
       "      <td>0.0</td>\n",
       "      <td>0.397959</td>\n",
       "    </tr>\n",
       "  </tbody>\n",
       "</table>\n",
       "<p>5 rows × 106 columns</p>\n",
       "</div>"
      ],
      "text/plain": [
       "   rich_outcome  ID  workclass_ ?  workclass_ Federal-gov  \\\n",
       "0             0   0             0                       0   \n",
       "1             0   1             0                       0   \n",
       "2             0   2             0                       0   \n",
       "3             0   3             0                       0   \n",
       "4             0   4             0                       0   \n",
       "\n",
       "   workclass_ Local-gov  workclass_ Never-worked  workclass_ Private  \\\n",
       "0                     0                        0                   0   \n",
       "1                     0                        0                   0   \n",
       "2                     0                        0                   1   \n",
       "3                     0                        0                   1   \n",
       "4                     0                        0                   1   \n",
       "\n",
       "   workclass_ Self-emp-inc  workclass_ Self-emp-not-inc  workclass_ State-gov  \\\n",
       "0                        0                            0                     1   \n",
       "1                        0                            1                     0   \n",
       "2                        0                            0                     0   \n",
       "3                        0                            0                     0   \n",
       "4                        0                            0                     0   \n",
       "\n",
       "   ...  native-country_ United-States  native-country_ Vietnam  \\\n",
       "0  ...                              1                        0   \n",
       "1  ...                              1                        0   \n",
       "2  ...                              1                        0   \n",
       "3  ...                              1                        0   \n",
       "4  ...                              0                        0   \n",
       "\n",
       "   native-country_ Yugoslavia       age    fnlwgt  education-num  race  \\\n",
       "0                           0  0.301370  0.044302       0.800000   0.0   \n",
       "1                           0  0.452055  0.048238       0.800000   0.0   \n",
       "2                           0  0.287671  0.138113       0.533333   0.0   \n",
       "3                           0  0.493151  0.151068       0.400000   1.0   \n",
       "4                           0  0.150685  0.221488       0.800000   1.0   \n",
       "\n",
       "   capital-gain  capital-loss  hours-per-week  \n",
       "0       0.02174           0.0        0.397959  \n",
       "1       0.00000           0.0        0.122449  \n",
       "2       0.00000           0.0        0.397959  \n",
       "3       0.00000           0.0        0.397959  \n",
       "4       0.00000           0.0        0.397959  \n",
       "\n",
       "[5 rows x 106 columns]"
      ]
     },
     "execution_count": 4,
     "metadata": {},
     "output_type": "execute_result"
    }
   ],
   "source": [
    "model_data.head()"
   ]
  },
  {
   "cell_type": "markdown",
   "metadata": {},
   "source": [
    "### 01 - Bias Index Check"
   ]
  },
  {
   "cell_type": "code",
   "execution_count": 5,
   "metadata": {},
   "outputs": [],
   "source": [
    "RAI_bias_checker = RAIDataBaisCheck(protected_group='race',\n",
    "                                    test_col='rich_outcome', \n",
    "                                    pvalue_threshold=0.1, \n",
    "                                    test_type=\"z-test\",\n",
    "                                    is_2_sided=False)"
   ]
  },
  {
   "cell_type": "code",
   "execution_count": 6,
   "metadata": {},
   "outputs": [
    {
     "data": {
      "text/plain": [
       "(True, 1.1361393491156106e-58)"
      ]
     },
     "execution_count": 6,
     "metadata": {},
     "output_type": "execute_result"
    }
   ],
   "source": [
    "bias, p_value = RAI_bias_checker.bias_test(model_input)\n",
    "bias, p_value"
   ]
  },
  {
   "cell_type": "code",
   "execution_count": 7,
   "metadata": {},
   "outputs": [
    {
     "data": {
      "text/html": [
       "<div>\n",
       "<style scoped>\n",
       "    .dataframe tbody tr th:only-of-type {\n",
       "        vertical-align: middle;\n",
       "    }\n",
       "\n",
       "    .dataframe tbody tr th {\n",
       "        vertical-align: top;\n",
       "    }\n",
       "\n",
       "    .dataframe thead th {\n",
       "        text-align: right;\n",
       "    }\n",
       "</style>\n",
       "<table border=\"1\" class=\"dataframe\">\n",
       "  <thead>\n",
       "    <tr style=\"text-align: right;\">\n",
       "      <th>rich_outcome</th>\n",
       "      <th>0</th>\n",
       "      <th>1</th>\n",
       "    </tr>\n",
       "    <tr>\n",
       "      <th>race</th>\n",
       "      <th></th>\n",
       "      <th></th>\n",
       "    </tr>\n",
       "  </thead>\n",
       "  <tbody>\n",
       "    <tr>\n",
       "      <th>0</th>\n",
       "      <td>0.746781</td>\n",
       "      <td>0.253219</td>\n",
       "    </tr>\n",
       "    <tr>\n",
       "      <th>1</th>\n",
       "      <td>0.876120</td>\n",
       "      <td>0.123880</td>\n",
       "    </tr>\n",
       "  </tbody>\n",
       "</table>\n",
       "</div>"
      ],
      "text/plain": [
       "rich_outcome         0         1\n",
       "race                            \n",
       "0             0.746781  0.253219\n",
       "1             0.876120  0.123880"
      ]
     },
     "execution_count": 7,
     "metadata": {},
     "output_type": "execute_result"
    }
   ],
   "source": [
    "RAI_bias_checker.historic_crosstab"
   ]
  },
  {
   "cell_type": "markdown",
   "metadata": {},
   "source": [
    "### 03 - Fairness Scenarios"
   ]
  },
  {
   "cell_type": "code",
   "execution_count": 8,
   "metadata": {},
   "outputs": [
    {
     "name": "stdout",
     "output_type": "stream",
     "text": [
      "Seconds to run:  9.29560136795044\n",
      "log-loss 0.3139295316819027\n"
     ]
    }
   ],
   "source": [
    "### If running model on own, repeat steps to create required binary arrays below\n",
    "protected_group = 'race' \n",
    "\n",
    "### Required model inputs [update with your own model]\n",
    "# outcome_array = binary y_true for your validation set -- what you are trying to predict\n",
    "# pg_array = binary protected group array -- 1/0 indicator where 1 is the PG (ex. black, female)\n",
    "# preds_proba = your model predicted scores for each record in your validation set = output from your model predict_proba() function from sklearn\n",
    "# preds_naive = your model predictions at optimal threshold -- use the one selected for your baseline / champion model\n",
    "\n",
    "# Code example -- where rf_model is your model\n",
    "#     preds_proba_raw = rf_model.predict_proba(X_test)\n",
    "#     preds_proba = np.array(preds_proba_raw)[:, 1]\n",
    "\n",
    "# Train model - generate data frames for scenario analysis\n",
    "outcome_array, pg_array, preds_proba, preds_naive = train_model.train_model(model_data,\n",
    "                                                                            dependent_bin,\n",
    "                                                                            protected_group,\n",
    "                                                                            test_size,\n",
    "                                                                            random_state,\n",
    "                                                                            n_estimators)\n",
    "\n",
    "y_true = outcome_array[\"rich_outcome\"]\n",
    "y_pred_proba = preds_proba\n",
    "y_pred_naive = preds_naive\n",
    "pg = pg_array[\"race\"]"
   ]
  },
  {
   "cell_type": "code",
   "execution_count": 9,
   "metadata": {},
   "outputs": [],
   "source": [
    "RAI_fairness_simulator = RAIFairnessScenarios(target_rate=0.9,\n",
    "                                              bias_detect_thresh=0.2)"
   ]
  },
  {
   "cell_type": "code",
   "execution_count": 10,
   "metadata": {
    "scrolled": false
   },
   "outputs": [
    {
     "data": {
      "text/html": [
       "<div>\n",
       "<style scoped>\n",
       "    .dataframe tbody tr th:only-of-type {\n",
       "        vertical-align: middle;\n",
       "    }\n",
       "\n",
       "    .dataframe tbody tr th {\n",
       "        vertical-align: top;\n",
       "    }\n",
       "\n",
       "    .dataframe thead th {\n",
       "        text-align: right;\n",
       "    }\n",
       "</style>\n",
       "<table border=\"1\" class=\"dataframe\">\n",
       "  <thead>\n",
       "    <tr style=\"text-align: right;\">\n",
       "      <th></th>\n",
       "      <th>Bias_Test</th>\n",
       "      <th>Bias_Index</th>\n",
       "      <th>Accuracy</th>\n",
       "      <th>TP</th>\n",
       "      <th>FN</th>\n",
       "      <th>TN</th>\n",
       "      <th>FP</th>\n",
       "      <th>Non_PG_Outcome_Rate</th>\n",
       "      <th>PG_Outcome_Rate</th>\n",
       "    </tr>\n",
       "    <tr>\n",
       "      <th>Scenario</th>\n",
       "      <th></th>\n",
       "      <th></th>\n",
       "      <th></th>\n",
       "      <th></th>\n",
       "      <th></th>\n",
       "      <th></th>\n",
       "      <th></th>\n",
       "      <th></th>\n",
       "      <th></th>\n",
       "    </tr>\n",
       "  </thead>\n",
       "  <tbody>\n",
       "    <tr>\n",
       "      <th>1 - Naive</th>\n",
       "      <td>Fail</td>\n",
       "      <td>0.4488</td>\n",
       "      <td>0.8618</td>\n",
       "      <td>0.7583</td>\n",
       "      <td>0.2417</td>\n",
       "      <td>0.8868</td>\n",
       "      <td>0.1132</td>\n",
       "      <td>0.2051</td>\n",
       "      <td>0.0920</td>\n",
       "    </tr>\n",
       "    <tr>\n",
       "      <th>2 - Threshold Best</th>\n",
       "      <td>Fail</td>\n",
       "      <td>0.4009</td>\n",
       "      <td>0.8389</td>\n",
       "      <td>0.8891</td>\n",
       "      <td>0.1109</td>\n",
       "      <td>0.8334</td>\n",
       "      <td>0.1666</td>\n",
       "      <td>0.1056</td>\n",
       "      <td>0.0423</td>\n",
       "    </tr>\n",
       "    <tr>\n",
       "      <th>3 - Historic Parity</th>\n",
       "      <td>Fail</td>\n",
       "      <td>0.4934</td>\n",
       "      <td>0.8397</td>\n",
       "      <td>0.8893</td>\n",
       "      <td>0.1107</td>\n",
       "      <td>0.8341</td>\n",
       "      <td>0.1659</td>\n",
       "      <td>0.1056</td>\n",
       "      <td>0.0521</td>\n",
       "    </tr>\n",
       "    <tr>\n",
       "      <th>4 - Demographic Parity</th>\n",
       "      <td>Pass</td>\n",
       "      <td>1.0022</td>\n",
       "      <td>0.8383</td>\n",
       "      <td>0.8848</td>\n",
       "      <td>0.1152</td>\n",
       "      <td>0.8331</td>\n",
       "      <td>0.1669</td>\n",
       "      <td>0.0999</td>\n",
       "      <td>0.1001</td>\n",
       "    </tr>\n",
       "  </tbody>\n",
       "</table>\n",
       "</div>"
      ],
      "text/plain": [
       "                       Bias_Test Bias_Index Accuracy      TP      FN      TN  \\\n",
       "Scenario                                                                       \n",
       "1 - Naive                   Fail     0.4488   0.8618  0.7583  0.2417  0.8868   \n",
       "2 - Threshold Best          Fail     0.4009   0.8389  0.8891  0.1109  0.8334   \n",
       "3 - Historic Parity         Fail     0.4934   0.8397  0.8893  0.1107  0.8341   \n",
       "4 - Demographic Parity      Pass     1.0022   0.8383  0.8848  0.1152  0.8331   \n",
       "\n",
       "                            FP Non_PG_Outcome_Rate  PG_Outcome_Rate  \n",
       "Scenario                                                             \n",
       "1 - Naive               0.1132              0.2051           0.0920  \n",
       "2 - Threshold Best      0.1666              0.1056           0.0423  \n",
       "3 - Historic Parity     0.1659              0.1056           0.0521  \n",
       "4 - Demographic Parity  0.1669              0.0999           0.1001  "
      ]
     },
     "execution_count": 10,
     "metadata": {},
     "output_type": "execute_result"
    }
   ],
   "source": [
    "RAI_fairness_simulator.fit(y_true,\n",
    "                           y_pred_naive,\n",
    "                           y_pred_proba,\n",
    "                           pg)"
   ]
  },
  {
   "cell_type": "code",
   "execution_count": 11,
   "metadata": {},
   "outputs": [
    {
     "data": {
      "text/plain": [
       "0.7325"
      ]
     },
     "execution_count": 11,
     "metadata": {},
     "output_type": "execute_result"
    }
   ],
   "source": [
    "RAI_fairness_simulator.thresh_best"
   ]
  },
  {
   "cell_type": "code",
   "execution_count": 12,
   "metadata": {},
   "outputs": [
    {
     "data": {
      "text/plain": [
       "0.684258721844227"
      ]
     },
     "execution_count": 12,
     "metadata": {},
     "output_type": "execute_result"
    }
   ],
   "source": [
    "RAI_fairness_simulator.thresh_hist_pg"
   ]
  },
  {
   "cell_type": "code",
   "execution_count": 13,
   "metadata": {},
   "outputs": [
    {
     "data": {
      "text/plain": [
       "0.735"
      ]
     },
     "execution_count": 13,
     "metadata": {},
     "output_type": "execute_result"
    }
   ],
   "source": [
    "RAI_fairness_simulator.thresh_hist_non_pg"
   ]
  },
  {
   "cell_type": "code",
   "execution_count": 14,
   "metadata": {},
   "outputs": [
    {
     "data": {
      "text/plain": [
       "0.47324999999999984"
      ]
     },
     "execution_count": 14,
     "metadata": {},
     "output_type": "execute_result"
    }
   ],
   "source": [
    "RAI_fairness_simulator.thresh_demog_pg"
   ]
  },
  {
   "cell_type": "code",
   "execution_count": 15,
   "metadata": {},
   "outputs": [
    {
     "data": {
      "text/plain": [
       "0.7475"
      ]
     },
     "execution_count": 15,
     "metadata": {},
     "output_type": "execute_result"
    }
   ],
   "source": [
    "RAI_fairness_simulator.thresh_demog_non_pg"
   ]
  },
  {
   "cell_type": "code",
   "execution_count": 16,
   "metadata": {},
   "outputs": [
    {
     "data": {
      "text/plain": [
       "array([0, 0, 0, ..., 0, 0, 0], dtype=int64)"
      ]
     },
     "execution_count": 16,
     "metadata": {},
     "output_type": "execute_result"
    }
   ],
   "source": [
    "RAI_fairness_simulator.preds_naive"
   ]
  },
  {
   "cell_type": "code",
   "execution_count": 17,
   "metadata": {},
   "outputs": [
    {
     "data": {
      "text/plain": [
       "array([0, 0, 0, ..., 0, 0, 0])"
      ]
     },
     "execution_count": 17,
     "metadata": {},
     "output_type": "execute_result"
    }
   ],
   "source": [
    "RAI_fairness_simulator.preds_threshold"
   ]
  },
  {
   "cell_type": "code",
   "execution_count": 18,
   "metadata": {},
   "outputs": [
    {
     "data": {
      "text/plain": [
       "array([0, 0, 0, ..., 0, 0, 0])"
      ]
     },
     "execution_count": 18,
     "metadata": {},
     "output_type": "execute_result"
    }
   ],
   "source": [
    "RAI_fairness_simulator.preds_historic"
   ]
  },
  {
   "cell_type": "code",
   "execution_count": 19,
   "metadata": {},
   "outputs": [
    {
     "data": {
      "text/plain": [
       "array([0, 0, 0, ..., 0, 0, 0])"
      ]
     },
     "execution_count": 19,
     "metadata": {},
     "output_type": "execute_result"
    }
   ],
   "source": [
    "RAI_fairness_simulator.preds_demographic"
   ]
  },
  {
   "cell_type": "code",
   "execution_count": 20,
   "metadata": {},
   "outputs": [],
   "source": [
    "# Steps Ahead:\n",
    "# - unit tests\n",
    "# - exception handling\n",
    "# - feature suggestions"
   ]
  },
  {
   "cell_type": "code",
   "execution_count": null,
   "metadata": {},
   "outputs": [],
   "source": []
  }
 ],
 "metadata": {
  "kernelspec": {
   "display_name": "facet-develop",
   "language": "python",
   "name": "facet-develop"
  },
  "language_info": {
   "codemirror_mode": {
    "name": "ipython",
    "version": 3
   },
   "file_extension": ".py",
   "mimetype": "text/x-python",
   "name": "python",
   "nbconvert_exporter": "python",
   "pygments_lexer": "ipython3",
   "version": "3.8.10"
  }
 },
 "nbformat": 4,
 "nbformat_minor": 4
}
